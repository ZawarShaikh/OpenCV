{
 "cells": [
  {
   "cell_type": "code",
   "execution_count": 1,
   "id": "b1c43d96",
   "metadata": {},
   "outputs": [],
   "source": [
    "import cv2\n",
    "import numpy as np"
   ]
  },
  {
   "cell_type": "code",
   "execution_count": 4,
   "id": "aeddc5ab",
   "metadata": {},
   "outputs": [],
   "source": [
    "#Default events in cv2 module\n",
    "events = (i for i in dir(cv2) if 'EVENT' in i)"
   ]
  },
  {
   "cell_type": "code",
   "execution_count": 5,
   "id": "535f0b5a",
   "metadata": {},
   "outputs": [
    {
     "name": "stdout",
     "output_type": "stream",
     "text": [
      "<generator object <genexpr> at 0x0000025F33899970>\n"
     ]
    }
   ],
   "source": [
    "print(events)"
   ]
  },
  {
   "cell_type": "code",
   "execution_count": 2,
   "id": "5f6c40bd",
   "metadata": {},
   "outputs": [],
   "source": [
    "#mouse callback function\n",
    "\n",
    "def click_event(event, x, y, flags, parem):\n",
    "    if event == cv2.EVENT_LBUTTONDOWN:\n",
    "        #Draw a text containing X, Y co-ordinates on img using left click mouse event\n",
    "        strXY = str(x) + ', ' + str(y)\n",
    "        font = cv2.FONT_HERSHEY_SIMPLEX\n",
    "        cv2.putText(img, strXY, (x, y), font, .5, (255, 255, 0), 1)\n",
    "        cv2.imshow('Image', img)\n",
    "        \n",
    "    if event == cv2.EVENT_RBUTTONDOWN:\n",
    "        blue = img[x, y, 0]\n",
    "        green = img[x, y, 1]\n",
    "        red = img[x, y, 2]\n",
    "        strBGR = str(blue) + ', ' + str(green) + ', ' + str(red)\n",
    "        font = cv2.FONT_HERSHEY_SIMPLEX\n",
    "        \n",
    "        #Draw a text containing BGR channels on img using right click mouse event\n",
    "#         cv2.putText(img, strBGR, (x, y), font, .5, (255, 255, 255), 1)\n",
    "        \n",
    "        #Draw a rectangle on img using right click mouse event\n",
    "        cv2.rectangle(img, (x, y), ((x + 100), (y + 100)), (0, 255, 255), 2)\n",
    "    \n",
    "        cv2.imshow('Image', img)\n",
    "  \n",
    "\n",
    "# img = np.zeros((512, 512, 3), np.uint8)\n",
    "img = cv2.imread('messi_2balls.jpg')\n",
    "cv2.imshow('Image', img)\n",
    "\n",
    "cv2.setMouseCallback('Image', click_event)\n",
    "\n",
    "cv2.waitKey(0)\n",
    "cv2.destroyAllWindows()\n",
    "        "
   ]
  },
  {
   "cell_type": "code",
   "execution_count": null,
   "id": "8974b284",
   "metadata": {},
   "outputs": [],
   "source": []
  }
 ],
 "metadata": {
  "kernelspec": {
   "display_name": "Python 3 (ipykernel)",
   "language": "python",
   "name": "python3"
  },
  "language_info": {
   "codemirror_mode": {
    "name": "ipython",
    "version": 3
   },
   "file_extension": ".py",
   "mimetype": "text/x-python",
   "name": "python",
   "nbconvert_exporter": "python",
   "pygments_lexer": "ipython3",
   "version": "3.11.4"
  }
 },
 "nbformat": 4,
 "nbformat_minor": 5
}
