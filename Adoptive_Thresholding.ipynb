{
 "cells": [
  {
   "cell_type": "code",
   "execution_count": 1,
   "id": "4c4c4095",
   "metadata": {},
   "outputs": [],
   "source": [
    "import cv2\n",
    "import numpy as np"
   ]
  },
  {
   "cell_type": "code",
   "execution_count": 4,
   "id": "99c88553",
   "metadata": {},
   "outputs": [],
   "source": [
    "img = cv2.imread('data/sudoku.png', 0)\n",
    "\n",
    "_,th1 = cv2.threshold(img, 127, 255, cv2.THRESH_BINARY)\n",
    "th2 = cv2.adaptiveThreshold(img, 255, cv2.ADAPTIVE_THRESH_MEAN_C, cv2.THRESH_BINARY, 11, 2) #, , , , block size, value of C\n",
    "th3 = cv2.adaptiveThreshold(img, 255, cv2.ADAPTIVE_THRESH_GAUSSIAN_C, cv2.THRESH_BINARY, 11, 2) #, , , , block size, value of C\n",
    "\n",
    "\n",
    "\n",
    "cv2.imshow('Original_Img', img)\n",
    "cv2.imshow('Thresh', th1)\n",
    "cv2.imshow('Adoptive_th_MC', th2)\n",
    "cv2.imshow('Adoptive_th_GC', th3)\n",
    "\n",
    "\n",
    "cv2.waitKey(0)\n",
    "cv2.destroyAllWindows()"
   ]
  },
  {
   "cell_type": "code",
   "execution_count": null,
   "id": "c330970f",
   "metadata": {},
   "outputs": [],
   "source": []
  }
 ],
 "metadata": {
  "kernelspec": {
   "display_name": "Python 3 (ipykernel)",
   "language": "python",
   "name": "python3"
  },
  "language_info": {
   "codemirror_mode": {
    "name": "ipython",
    "version": 3
   },
   "file_extension": ".py",
   "mimetype": "text/x-python",
   "name": "python",
   "nbconvert_exporter": "python",
   "pygments_lexer": "ipython3",
   "version": "3.11.4"
  }
 },
 "nbformat": 4,
 "nbformat_minor": 5
}
