{
 "cells": [
  {
   "cell_type": "code",
   "execution_count": 1,
   "id": "e70ebf9e",
   "metadata": {},
   "outputs": [],
   "source": [
    "import cv2\n",
    "import numpy as np"
   ]
  },
  {
   "cell_type": "code",
   "execution_count": 2,
   "id": "c8cd76fb",
   "metadata": {},
   "outputs": [],
   "source": [
    "img = cv2.imread('data/gradient.png', 0)\n",
    "\n",
    "#Binary Thresholding\n",
    "# threshold method will campare each and every pixle of our image with the given threshold values(start-end)\n",
    "# Is pixle value is less threshold starting value it will return 0, if greater it will return 1\n",
    "_, th1 = cv2.threshold(img, 50, 255, cv2.THRESH_BINARY)#Image, starting threshold, ending threshold, threshold type\n",
    "\n",
    "#Binary inv thresholding\n",
    "# Is pixle value is less threshold starting value it will return 1, if greater it will return 0\n",
    "_, th2 = cv2.threshold(img, 200, 255, cv2.THRESH_BINARY_INV)\n",
    "\n",
    "# Is pixle value is less threshold starting value it will return pixle as it is, \n",
    "# if greater it will return same pixle as the starting threshold value\n",
    "_, th3 = cv2.threshold(img, 100, 255, cv2.THRESH_TRUNC)\n",
    "\n",
    "# Is pixle value is less threshold starting value it will return 0, if greater it will return the same pixle value as it is \n",
    "_, th4 = cv2.threshold(img, 100, 255, cv2.THRESH_TOZERO)"
   ]
  },
  {
   "cell_type": "code",
   "execution_count": 3,
   "id": "602f5c59",
   "metadata": {},
   "outputs": [],
   "source": [
    "cv2.imshow('Image', img)\n",
    "cv2.imshow('Threshold_binary', th1)\n",
    "cv2.imshow('Threshold_binary_inv', th2)\n",
    "cv2.imshow('Threshold_trunc', th3)\n",
    "cv2.imshow('Threshold_tozero', th4)\n",
    "\n",
    "\n",
    "\n",
    "cv2.waitKey(0)\n",
    "cv2.destroyAllWindows()"
   ]
  },
  {
   "cell_type": "code",
   "execution_count": null,
   "id": "d4d36998",
   "metadata": {},
   "outputs": [],
   "source": []
  }
 ],
 "metadata": {
  "kernelspec": {
   "display_name": "Python 3 (ipykernel)",
   "language": "python",
   "name": "python3"
  },
  "language_info": {
   "codemirror_mode": {
    "name": "ipython",
    "version": 3
   },
   "file_extension": ".py",
   "mimetype": "text/x-python",
   "name": "python",
   "nbconvert_exporter": "python",
   "pygments_lexer": "ipython3",
   "version": "3.11.4"
  }
 },
 "nbformat": 4,
 "nbformat_minor": 5
}
