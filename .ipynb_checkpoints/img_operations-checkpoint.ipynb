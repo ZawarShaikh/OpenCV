{
 "cells": [
  {
   "cell_type": "code",
   "execution_count": 17,
   "id": "9a815cc7",
   "metadata": {},
   "outputs": [
    {
     "name": "stdout",
     "output_type": "stream",
     "text": [
      "(342, 548, 3)\n",
      "562248\n",
      "uint8\n"
     ]
    }
   ],
   "source": [
    "import cv2\n",
    "import numpy as np\n",
    "\n",
    "img = cv2.imread('data/messi5.jpg')\n",
    "img2 = cv2.imread('data/opencv-logo.png')\n",
    "\n",
    "print(img.shape)\n",
    "print(img.size)\n",
    "print(img.dtype)\n",
    "\n",
    "#taking an obbject from the image and placing it on another location\n",
    "head = img[60:140, 200:260] #img[Y:Y, X:X] \n",
    "img[150:230, 40:100] = head #img[Y:Y, X:X]\n",
    "\n",
    "\n",
    "img = cv2.resize(img, (512, 512))\n",
    "img2 = cv2.resize(img2, (512, 512))\n",
    "\n",
    "#Adding two images\n",
    "dst = cv2.add(img, img2)\n",
    "#Adding two images with their weights\n",
    "dst = cv2.addWeighted(img, .5, img2, .5, 0)\n",
    "\n",
    "cv2.imshow('Image', dst)\n",
    "\n",
    "cv2.waitKey(0)\n",
    "cv2.destroyAllWindows()"
   ]
  },
  {
   "cell_type": "code",
   "execution_count": null,
   "id": "f6de89ea",
   "metadata": {},
   "outputs": [],
   "source": []
  }
 ],
 "metadata": {
  "kernelspec": {
   "display_name": "Python 3 (ipykernel)",
   "language": "python",
   "name": "python3"
  },
  "language_info": {
   "codemirror_mode": {
    "name": "ipython",
    "version": 3
   },
   "file_extension": ".py",
   "mimetype": "text/x-python",
   "name": "python",
   "nbconvert_exporter": "python",
   "pygments_lexer": "ipython3",
   "version": "3.11.4"
  }
 },
 "nbformat": 4,
 "nbformat_minor": 5
}
