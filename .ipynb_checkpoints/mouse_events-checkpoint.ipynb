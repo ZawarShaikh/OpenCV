{
 "cells": [
  {
   "cell_type": "code",
   "execution_count": 1,
   "id": "e140f5f6",
   "metadata": {},
   "outputs": [],
   "source": [
    "import cv2\n",
    "import numpy as np"
   ]
  },
  {
   "cell_type": "code",
   "execution_count": 4,
   "id": "5be86066",
   "metadata": {},
   "outputs": [],
   "source": [
    "#Default events in cv2 module\n",
    "events = (i for i in dir(cv2) if 'EVENT' in i)"
   ]
  },
  {
   "cell_type": "code",
   "execution_count": 5,
   "id": "65b9eee1",
   "metadata": {},
   "outputs": [
    {
     "name": "stdout",
     "output_type": "stream",
     "text": [
      "<generator object <genexpr> at 0x0000025F33899970>\n"
     ]
    }
   ],
   "source": [
    "print(events)"
   ]
  },
  {
   "cell_type": "code",
   "execution_count": 6,
   "id": "c99f45f4",
   "metadata": {},
   "outputs": [
    {
     "name": "stdout",
     "output_type": "stream",
     "text": [
      "230 ,  207\n",
      "150 ,  232\n",
      "118 ,  318\n",
      "216 ,  401\n",
      "350 ,  327\n",
      "451 ,  301\n",
      "450 ,  151\n",
      "431 ,  54\n",
      "289 ,  51\n",
      "123 ,  82\n",
      "85 ,  159\n",
      "71 ,  231\n",
      "50 ,  308\n",
      "58 ,  369\n",
      "77 ,  401\n",
      "173 ,  440\n",
      "333 ,  481\n",
      "387 ,  418\n",
      "295 ,  343\n",
      "236 ,  345\n",
      "193 ,  353\n",
      "26 ,  457\n",
      "38 ,  501\n",
      "257 ,  476\n",
      "489 ,  223\n"
     ]
    }
   ],
   "source": [
    "#mouse callback function\n",
    "\n",
    "def click_event(event, x, y, flags, parem):\n",
    "    if event == cv2.EVENT_LBUTTONDOWN:\n",
    "        print(x, ', ', y)\n",
    "        strXY = str(x) + ', ' + str(y)\n",
    "        font = cv2.FONT_HERSHEY_SIMPLEX\n",
    "        cv2.putText(img, strXY, (x, y), font, 1, (255, 255, 0), 2)\n",
    "        cv2.imshow('Image', img)\n",
    "        \n",
    "img = np.zeros((512, 512, 3), np.uint8)\n",
    "cv2.imshow('Image', img)\n",
    "\n",
    "cv2.setMouseCallback('Image', click_event)\n",
    "\n",
    "cv2.waitKey(0)\n",
    "cv2.destroyAllWindows()\n",
    "        "
   ]
  },
  {
   "cell_type": "code",
   "execution_count": null,
   "id": "9baa9437",
   "metadata": {},
   "outputs": [],
   "source": []
  }
 ],
 "metadata": {
  "kernelspec": {
   "display_name": "Python 3 (ipykernel)",
   "language": "python",
   "name": "python3"
  },
  "language_info": {
   "codemirror_mode": {
    "name": "ipython",
    "version": 3
   },
   "file_extension": ".py",
   "mimetype": "text/x-python",
   "name": "python",
   "nbconvert_exporter": "python",
   "pygments_lexer": "ipython3",
   "version": "3.11.4"
  }
 },
 "nbformat": 4,
 "nbformat_minor": 5
}
