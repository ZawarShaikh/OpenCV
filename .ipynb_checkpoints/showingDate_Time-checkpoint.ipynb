{
 "cells": [
  {
   "cell_type": "code",
   "execution_count": 5,
   "id": "33b36d80",
   "metadata": {},
   "outputs": [
    {
     "name": "stdout",
     "output_type": "stream",
     "text": [
      "640.0\n",
      "480.0\n",
      "640.0\n",
      "360.0\n"
     ]
    }
   ],
   "source": [
    "import cv2\n",
    "import datetime\n",
    "\n",
    "cap = cv2.VideoCapture(0)\n",
    "\n",
    "print(cap.get(cv2.CAP_PROP_FRAME_WIDTH)) # #Checking width of each frame\n",
    "print(cap.get(cv2.CAP_PROP_FRAME_HEIGHT))#Checking height of each frame\n",
    "\n",
    "# cap.set(3, 640)\n",
    "# cap.set(4, 400)\n",
    "# print(cap.get(3)) # #Checking width of each frame width of each frame\n",
    "# print(cap.get(4))#Checking height of each frame\n",
    "\n",
    "while(cap.isOpened()):\n",
    "    ret, frame = cap.read()\n",
    "    \n",
    "    if ret == True:\n",
    "        font = cv2.FONT_HERSHEY_SIMPLEX\n",
    "        \n",
    "        #Showing the height and width on the video\n",
    "        text = 'width: ' + str(cap.get(3)) + 'height: ' + str(cap.get(4))\n",
    "        \n",
    "        #Showing curent date and time on the video\n",
    "        dateset = str(datetime.datetime.now)\n",
    "        \n",
    "        frame = cv2.putText(frame, dateset, (10, 50), font, 1, (0, 255, 255), 2, cv2.LINE_AA)\n",
    "\n",
    "        cv2.imshow('frame', frame)\n",
    "\n",
    "        if cv2.waitKey(1) & 0xFF == ord('q'): #0xFF is a mask for 64 bit machines, here is q key is pressed the video will stop\n",
    "            break\n",
    "    else:\n",
    "        break\n",
    "        \n",
    "        \n",
    "        \n",
    "cap.release() #releases all resources\n",
    "cv2.destroyAllWindows() # destroy all windows"
   ]
  },
  {
   "cell_type": "code",
   "execution_count": null,
   "id": "9ace594a",
   "metadata": {},
   "outputs": [],
   "source": []
  }
 ],
 "metadata": {
  "kernelspec": {
   "display_name": "Python 3 (ipykernel)",
   "language": "python",
   "name": "python3"
  },
  "language_info": {
   "codemirror_mode": {
    "name": "ipython",
    "version": 3
   },
   "file_extension": ".py",
   "mimetype": "text/x-python",
   "name": "python",
   "nbconvert_exporter": "python",
   "pygments_lexer": "ipython3",
   "version": "3.11.4"
  }
 },
 "nbformat": 4,
 "nbformat_minor": 5
}
