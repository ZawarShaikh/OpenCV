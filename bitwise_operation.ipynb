{
 "cells": [
  {
   "cell_type": "code",
   "execution_count": 2,
   "id": "515eb864",
   "metadata": {},
   "outputs": [],
   "source": [
    "import numpy as np\n",
    "import cv2\n"
   ]
  },
  {
   "cell_type": "code",
   "execution_count": 18,
   "id": "3d5ea0d1",
   "metadata": {},
   "outputs": [],
   "source": [
    "img1 = np.zeros((250, 500, 3), np.uint8)\n",
    "img1 = cv2.rectangle(img1, (200, 0), (300, 100), (255, 255, 255), -1)\n",
    "\n",
    "img2 = np.zeros((250, 500, 3), np.uint8)\n",
    "img2 = cv2.rectangle(img2, (250, 0), (500, 250), (255, 255, 255), -1)\n",
    "\n",
    "\n",
    "#Performing bitwise and operation between two images\n",
    "# bitAnd = cv2.bitwise_and(img2, img1)\n",
    "\n",
    "#Performing bitwise or operation between two images\n",
    "# bitOr = cv2.bitwise_or(img2, img1)\n",
    "\n",
    "#Performing bitwise xor operation between two images\n",
    "# bitXor = cv2.bitwise_xor(img2, img1)\n",
    "\n",
    "#Performing bitwise not operation between two images\n",
    "bitNot1 = cv2.bitwise_not(img1)\n",
    "bitNot2 = cv2.bitwise_not(img2)\n",
    "\n",
    "cv2.imshow('Image', img1)\n",
    "cv2.imshow('Image2', img2)\n",
    "cv2.imshow('BitNot1', bitNot1)\n",
    "cv2.imshow('BitNot2', bitNot2)\n",
    "\n",
    "cv2.waitKey(0)\n",
    "cv2.destroyAllWindows()"
   ]
  },
  {
   "cell_type": "code",
   "execution_count": null,
   "id": "dbb3fd78",
   "metadata": {},
   "outputs": [],
   "source": []
  }
 ],
 "metadata": {
  "kernelspec": {
   "display_name": "Python 3 (ipykernel)",
   "language": "python",
   "name": "python3"
  },
  "language_info": {
   "codemirror_mode": {
    "name": "ipython",
    "version": 3
   },
   "file_extension": ".py",
   "mimetype": "text/x-python",
   "name": "python",
   "nbconvert_exporter": "python",
   "pygments_lexer": "ipython3",
   "version": "3.11.4"
  }
 },
 "nbformat": 4,
 "nbformat_minor": 5
}
