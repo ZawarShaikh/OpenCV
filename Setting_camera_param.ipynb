{
 "cells": [
  {
   "cell_type": "code",
   "execution_count": 4,
   "id": "212268f9",
   "metadata": {},
   "outputs": [
    {
     "name": "stdout",
     "output_type": "stream",
     "text": [
      "640.0\n",
      "480.0\n",
      "640.0\n",
      "360.0\n"
     ]
    }
   ],
   "source": [
    "import cv2\n",
    "\n",
    "#Reading video - each frame\n",
    "\n",
    "cap = cv2.VideoCapture(0)\n",
    "\n",
    "print(cap.get(cv2.CAP_PROP_FRAME_WIDTH)) # #Checking width of each frame width of each frame\n",
    "print(cap.get(cv2.CAP_PROP_FRAME_HEIGHT))#Checking height of each frame\n",
    "    \n",
    "cap.set(3, 640)\n",
    "cap.set(4, 400)\n",
    "\n",
    "print(cap.get(3)) # #Checking width of each frame width of each frame\n",
    "print(cap.get(4))#Checking height of each frame\n",
    "\n",
    "while(cap.isOpened()):\n",
    "    ret, frame = cap.read()\n",
    "    \n",
    "    \n",
    "    gray = cv2.cvtColor(frame, cv2.COLOR_BGR2GRAY)\n",
    "    cv2.imshow('frame', gray)\n",
    "    \n",
    "    if cv2.waitKey(1) & 0xFF == ord('q'): #0xFF is a mask for 64 bit machines, here is q key is pressed the video will stop\n",
    "        break\n",
    "        \n",
    "cap.release() #releases all resources\n",
    "cv2.destroyAllWindows() # destroy all windows"
   ]
  },
  {
   "cell_type": "code",
   "execution_count": null,
   "id": "adff0a73",
   "metadata": {},
   "outputs": [],
   "source": []
  }
 ],
 "metadata": {
  "kernelspec": {
   "display_name": "Python 3 (ipykernel)",
   "language": "python",
   "name": "python3"
  },
  "language_info": {
   "codemirror_mode": {
    "name": "ipython",
    "version": 3
   },
   "file_extension": ".py",
   "mimetype": "text/x-python",
   "name": "python",
   "nbconvert_exporter": "python",
   "pygments_lexer": "ipython3",
   "version": "3.11.4"
  }
 },
 "nbformat": 4,
 "nbformat_minor": 5
}
