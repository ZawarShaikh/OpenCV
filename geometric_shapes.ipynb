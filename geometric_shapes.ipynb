{
 "cells": [
  {
   "cell_type": "code",
   "execution_count": 13,
   "id": "481cec02",
   "metadata": {},
   "outputs": [
    {
     "ename": "error",
     "evalue": "OpenCV(4.8.0) :-1: error: (-5:Bad argument) in function 'imwrite'\n> Overload resolution failed:\n>  - Can't convert object to 'str' for 'filename'\n>  - Can't convert object to 'str' for 'filename'\n",
     "output_type": "error",
     "traceback": [
      "\u001b[1;31m---------------------------------------------------------------------------\u001b[0m",
      "\u001b[1;31merror\u001b[0m                                     Traceback (most recent call last)",
      "Cell \u001b[1;32mIn[13], line 25\u001b[0m\n\u001b[0;32m     18\u001b[0m \u001b[38;5;66;03m# #drawing circle on the imag\u001b[39;00m\n\u001b[0;32m     19\u001b[0m \u001b[38;5;66;03m# img = cv2.circle(img, (247, 263), 63, (147,96,44), 5)\u001b[39;00m\n\u001b[0;32m     20\u001b[0m \u001b[38;5;66;03m#drawing text on the image\u001b[39;00m\n\u001b[0;32m     21\u001b[0m \u001b[38;5;66;03m# font = cv2.FONT_HERSHEY_SIMPLEX\u001b[39;00m\n\u001b[0;32m     22\u001b[0m \u001b[38;5;66;03m# img = cv2.putText(img, 'MyImage', (10,255), font, 3, (255,255,255), 5, cv2.LINE_AA)\u001b[39;00m\n\u001b[0;32m     24\u001b[0m cv2\u001b[38;5;241m.\u001b[39mimshow(\u001b[38;5;124m'\u001b[39m\u001b[38;5;124mimage\u001b[39m\u001b[38;5;124m'\u001b[39m, img)\n\u001b[1;32m---> 25\u001b[0m cv2\u001b[38;5;241m.\u001b[39mimwrite(img, \u001b[38;5;124m'\u001b[39m\u001b[38;5;124mImage_lena.jpg\u001b[39m\u001b[38;5;124m'\u001b[39m)\n\u001b[0;32m     27\u001b[0m cv2\u001b[38;5;241m.\u001b[39mwaitKey(\u001b[38;5;241m0\u001b[39m)\n\u001b[0;32m     28\u001b[0m cv2\u001b[38;5;241m.\u001b[39mdestroyAllWindows()\n",
      "\u001b[1;31merror\u001b[0m: OpenCV(4.8.0) :-1: error: (-5:Bad argument) in function 'imwrite'\n> Overload resolution failed:\n>  - Can't convert object to 'str' for 'filename'\n>  - Can't convert object to 'str' for 'filename'\n"
     ]
    }
   ],
   "source": [
    "import numpy as np\n",
    "import cv2\n",
    "# \n",
    "img = cv2.imread('data/lena.jpg', 1)\n",
    "\n",
    "# #Creating image using numpy\n",
    "# img = np.zeros([512, 512, 3], np.uint8)\n",
    "\n",
    "# #drawing line on the image\n",
    "# img = cv2.line(img, (0,0), (255,200), (147,96,44), 5)\n",
    "\n",
    "# #drawing arrowed line on the image\n",
    "# img = cv2.arrowedLine(img, (0,0), (255,255), (147,96,44), 5)\n",
    "\n",
    "#drawing rectangle on the image\n",
    "img = cv2.rectangle(img, (200,200), (370,400), (147,96,44), 5)\n",
    "\n",
    "# #drawing circle on the imag\n",
    "# img = cv2.circle(img, (247, 263), 63, (147,96,44), 5)\n",
    "#drawing text on the image\n",
    "# font = cv2.FONT_HERSHEY_SIMPLEX\n",
    "# img = cv2.putText(img, 'MyImage', (10,255), font, 3, (255,255,255), 5, cv2.LINE_AA)\n",
    "\n",
    "cv2.imshow('image', img)\n",
    "cv2.imwrite(img, 'Image_lena.jpg')\n",
    "\n",
    "cv2.waitKey(0)\n",
    "cv2.destroyAllWindows()"
   ]
  },
  {
   "cell_type": "code",
   "execution_count": 1,
   "id": "8f5de9f2",
   "metadata": {},
   "outputs": [],
   "source": [
    "import cv2"
   ]
  },
  {
   "cell_type": "code",
   "execution_count": null,
   "id": "16c3a6bc",
   "metadata": {},
   "outputs": [],
   "source": [
    "img = cv2.imread('data/lena.jpg', -1)\n",
    "print(img)\n",
    "\n",
    "img = cv2.rectangle(img, (200,200), (370,400), (147,96,44), 5)\n",
    "\n",
    "cv2.imshow('image', img)\n",
    "wait_key = cv2.waitKey(0)\n",
    "\n",
    "if wait_key == 27:\n",
    "    cv2.destroyAllWindows()\n",
    "    \n",
    "elif wait_key == ord('s'):\n",
    "    cv2.imwrite('Img_lena.jpg', img)\n",
    "    cv2.destroyAllWindows()\n",
    "    \n",
    "    "
   ]
  },
  {
   "cell_type": "code",
   "execution_count": null,
   "id": "5660c4fc",
   "metadata": {},
   "outputs": [],
   "source": []
  }
 ],
 "metadata": {
  "kernelspec": {
   "display_name": "Python 3 (ipykernel)",
   "language": "python",
   "name": "python3"
  },
  "language_info": {
   "codemirror_mode": {
    "name": "ipython",
    "version": 3
   },
   "file_extension": ".py",
   "mimetype": "text/x-python",
   "name": "python",
   "nbconvert_exporter": "python",
   "pygments_lexer": "ipython3",
   "version": "3.11.4"
  }
 },
 "nbformat": 4,
 "nbformat_minor": 5
}
