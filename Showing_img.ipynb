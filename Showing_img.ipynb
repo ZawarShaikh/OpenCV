{
 "cells": [
  {
   "cell_type": "code",
   "execution_count": 1,
   "id": "3fe12a8e",
   "metadata": {},
   "outputs": [],
   "source": [
    "import cv2\n",
    "import PIL"
   ]
  },
  {
   "cell_type": "code",
   "execution_count": 12,
   "id": "baf1be77",
   "metadata": {},
   "outputs": [
    {
     "name": "stdout",
     "output_type": "stream",
     "text": [
      "[[[ 91 126 122]\n",
      "  [ 82 119 115]\n",
      "  [ 87 124 120]\n",
      "  ...\n",
      "  [103 168 153]\n",
      "  [103 168 153]\n",
      "  [105 170 155]]\n",
      "\n",
      " [[ 87 122 118]\n",
      "  [ 77 114 110]\n",
      "  [ 80 117 113]\n",
      "  ...\n",
      "  [114 181 166]\n",
      "  [116 183 168]\n",
      "  [118 185 170]]\n",
      "\n",
      " [[ 82 117 113]\n",
      "  [ 74 111 107]\n",
      "  [ 78 115 111]\n",
      "  ...\n",
      "  [108 178 161]\n",
      "  [109 180 163]\n",
      "  [111 182 165]]\n",
      "\n",
      " ...\n",
      "\n",
      " [[113 157 116]\n",
      "  [115 160 117]\n",
      "  [120 163 120]\n",
      "  ...\n",
      "  [109 139  98]\n",
      "  [109 141 100]\n",
      "  [111 144 100]]\n",
      "\n",
      " [[107 151 112]\n",
      "  [109 153 112]\n",
      "  [112 155 112]\n",
      "  ...\n",
      "  [112 143  98]\n",
      "  [111 144  99]\n",
      "  [111 144  99]]\n",
      "\n",
      " [[113 157 118]\n",
      "  [113 157 116]\n",
      "  [117 157 116]\n",
      "  ...\n",
      "  [125 156 111]\n",
      "  [120 154 107]\n",
      "  [118 152 105]]]\n"
     ]
    }
   ],
   "source": [
    "img = cv2.imread('data/apple.jpg', -1)\n",
    "print(img)\n",
    "\n",
    "cv2.imshow('image', img)\n",
    "\n",
    "cv2.waitKey(0)\n",
    "cv2.destroyAllWindows()"
   ]
  },
  {
   "cell_type": "code",
   "execution_count": 11,
   "id": "c06f8daa",
   "metadata": {},
   "outputs": [
    {
     "data": {
      "text/plain": [
       "True"
      ]
     },
     "execution_count": 11,
     "metadata": {},
     "output_type": "execute_result"
    }
   ],
   "source": [
    "#Saving an image to the directory\n",
    "cv2.imwrite('MyApple.jpg', img)"
   ]
  },
  {
   "cell_type": "code",
   "execution_count": 15,
   "id": "068b0110",
   "metadata": {},
   "outputs": [
    {
     "name": "stdout",
     "output_type": "stream",
     "text": [
      "[[[ 91 126 122]\n",
      "  [ 82 119 115]\n",
      "  [ 87 124 120]\n",
      "  ...\n",
      "  [103 168 153]\n",
      "  [103 168 153]\n",
      "  [105 170 155]]\n",
      "\n",
      " [[ 87 122 118]\n",
      "  [ 77 114 110]\n",
      "  [ 80 117 113]\n",
      "  ...\n",
      "  [114 181 166]\n",
      "  [116 183 168]\n",
      "  [118 185 170]]\n",
      "\n",
      " [[ 82 117 113]\n",
      "  [ 74 111 107]\n",
      "  [ 78 115 111]\n",
      "  ...\n",
      "  [108 178 161]\n",
      "  [109 180 163]\n",
      "  [111 182 165]]\n",
      "\n",
      " ...\n",
      "\n",
      " [[113 157 116]\n",
      "  [115 160 117]\n",
      "  [120 163 120]\n",
      "  ...\n",
      "  [109 139  98]\n",
      "  [109 141 100]\n",
      "  [111 144 100]]\n",
      "\n",
      " [[107 151 112]\n",
      "  [109 153 112]\n",
      "  [112 155 112]\n",
      "  ...\n",
      "  [112 143  98]\n",
      "  [111 144  99]\n",
      "  [111 144  99]]\n",
      "\n",
      " [[113 157 118]\n",
      "  [113 157 116]\n",
      "  [117 157 116]\n",
      "  ...\n",
      "  [125 156 111]\n",
      "  [120 154 107]\n",
      "  [118 152 105]]]\n"
     ]
    }
   ],
   "source": [
    "img = cv2.imread('data/apple.jpg', -1)\n",
    "print(img)\n",
    "\n",
    "cv2.imshow('image', img)\n",
    "wait_key = cv2.waitKey(0)\n",
    "\n",
    "if wait_key == 27:\n",
    "    cv2.destroyAllWindows()\n",
    "    \n",
    "elif wait_key == ord('s'):\n",
    "    cv2.imwrite('MyApple.jpg', img)\n",
    "    cv2.destroyAllWindows()\n",
    "    \n",
    "    "
   ]
  },
  {
   "cell_type": "code",
   "execution_count": null,
   "id": "c713095d",
   "metadata": {},
   "outputs": [],
   "source": []
  }
 ],
 "metadata": {
  "kernelspec": {
   "display_name": "Python 3 (ipykernel)",
   "language": "python",
   "name": "python3"
  },
  "language_info": {
   "codemirror_mode": {
    "name": "ipython",
    "version": 3
   },
   "file_extension": ".py",
   "mimetype": "text/x-python",
   "name": "python",
   "nbconvert_exporter": "python",
   "pygments_lexer": "ipython3",
   "version": "3.11.4"
  }
 },
 "nbformat": 4,
 "nbformat_minor": 5
}
